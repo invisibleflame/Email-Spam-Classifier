{
  "nbformat": 4,
  "nbformat_minor": 0,
  "metadata": {
    "colab": {
      "name": "Email Classification ",
      "provenance": []
    },
    "kernelspec": {
      "name": "python3",
      "display_name": "Python 3"
    },
    "language_info": {
      "name": "python"
    }
  },
  "cells": [
    {
      "cell_type": "code",
      "metadata": {
        "id": "5BFeazOXDoJR"
      },
      "source": [
        "import numpy as np\n",
        "import pandas as pd\n",
        "import string\n",
        "from sklearn.feature_extraction.text import TfidfVectorizer\n",
        "from sklearn.model_selection import train_test_split\n",
        "import nltk\n",
        "from keras.preprocessing.text import Tokenizer\n",
        "from nltk.corpus import stopwords\n",
        "from nltk.stem import SnowballStemmer\n",
        "from keras.preprocessing.sequence import pad_sequences\n",
        "import tensorflow as tf\n",
        "from keras.layers import Dense,LSTM, Embedding, Dropout, Activation, Bidirectional\n",
        "import matplotlib.pyplot as plt"
      ],
      "execution_count": null,
      "outputs": []
    },
    {
      "cell_type": "code",
      "metadata": {
        "id": "G0SgBW9cEhRi"
      },
      "source": [
        "nltk.download('stopwords')"
      ],
      "execution_count": null,
      "outputs": []
    },
    {
      "cell_type": "code",
      "metadata": {
        "id": "M6yDhQzwEGcG"
      },
      "source": [
        "data= pd.read_csv('spam.csv',encoding = \"latin\")\n",
        "data=data.drop(['Unnamed: 2', 'Unnamed: 3', 'Unnamed: 4'], axis = 1)\n",
        "data.head()"
      ],
      "execution_count": null,
      "outputs": []
    },
    {
      "cell_type": "code",
      "metadata": {
        "id": "Dj4BBuK1Eu_E"
      },
      "source": [
        "xdata=data['v2'].copy()\n",
        "ydata=data['v1'].copy()"
      ],
      "execution_count": null,
      "outputs": []
    },
    {
      "cell_type": "code",
      "metadata": {
        "id": "fL0fmWY0F0aW"
      },
      "source": [
        "def text_preprocess(text):\n",
        "    text=text.lower()\n",
        "    text = text.translate(str.maketrans('', '', string.punctuation))\n",
        "    text = [word for word in text.split() if word.lower() not in stopwords.words('english')]\n",
        "    return \" \".join(text)\n"
      ],
      "execution_count": null,
      "outputs": []
    },
    {
      "cell_type": "code",
      "metadata": {
        "id": "FrryDTVEGAM7"
      },
      "source": [
        "xdata= xdata.apply(text_preprocess)\n",
        "xdata.head()"
      ],
      "execution_count": null,
      "outputs": []
    },
    {
      "cell_type": "code",
      "metadata": {
        "id": "YOtp_gEMGyrT"
      },
      "source": [
        "ydata = ydata.astype('category').cat.codes\n",
        "ydata.head()"
      ],
      "execution_count": null,
      "outputs": []
    },
    {
      "cell_type": "code",
      "metadata": {
        "id": "Am54CK2PITe8"
      },
      "source": [
        "xtrain, xtest, ytrain, ytest= train_test_split(xdata,ydata, test_size=0.2, random_state=20)"
      ],
      "execution_count": null,
      "outputs": []
    },
    {
      "cell_type": "code",
      "metadata": {
        "id": "8IupC2YrIb7r"
      },
      "source": [
        "max_feature = 50000 \n",
        "tokenizer = Tokenizer(num_words=max_feature)\n",
        "tokenizer.fit_on_texts(xtrain)\n",
        "x_train_features = np.array(tokenizer.texts_to_sequences(xtrain))\n",
        "x_test_features = np.array(tokenizer.texts_to_sequences(xtest))"
      ],
      "execution_count": null,
      "outputs": []
    },
    {
      "cell_type": "code",
      "metadata": {
        "id": "DWA96cerOgcY"
      },
      "source": [
        "x_tra"
      ],
      "execution_count": null,
      "outputs": []
    },
    {
      "cell_type": "code",
      "metadata": {
        "id": "uOWzihXQJYaR"
      },
      "source": [
        "x_train_features = pad_sequences(x_train_features)\n",
        "x_test_features = pad_sequences(x_test_features)"
      ],
      "execution_count": null,
      "outputs": []
    },
    {
      "cell_type": "code",
      "metadata": {
        "id": "fC5qRZl1KvjR"
      },
      "source": [
        "x_train_features.shape"
      ],
      "execution_count": null,
      "outputs": []
    },
    {
      "cell_type": "code",
      "metadata": {
        "id": "QP69u_0YJiqb"
      },
      "source": [
        "embedding_length = 32\n",
        "model = tf.keras.Sequential()\n",
        "model.add(Embedding(max_feature, embedding_length, input_length=x_train_features.shape[1]))\n",
        "model.add(Bidirectional(tf.keras.layers.LSTM(64)))\n",
        "model.add(Dense(16, activation='relu'))\n",
        "model.add(Dropout(0.1))\n",
        "model.add(Dense(1, activation='sigmoid'))\n",
        "model.compile(loss='binary_crossentropy', optimizer='adam', metrics=['accuracy'])\n",
        "model.summary()"
      ],
      "execution_count": null,
      "outputs": []
    },
    {
      "cell_type": "code",
      "metadata": {
        "id": "YCzoJ4MQKtUM"
      },
      "source": [
        "history = model.fit(x_train_features, ytrain, batch_size=1024, epochs=20, validation_data=(x_test_features, ytest))"
      ],
      "execution_count": null,
      "outputs": []
    },
    {
      "cell_type": "code",
      "metadata": {
        "id": "6ieIES6qNJii"
      },
      "source": [
        "plt.plot(history.history['accuracy'])\n",
        "plt.plot(history.history['val_accuracy'])\n",
        "plt.title('model accuracy')\n",
        "plt.ylabel('accuracy')\n",
        "plt.xlabel('epoch')\n",
        "plt.legend(['train', 'test'], loc='upper left')\n",
        "plt.show()\n",
        "# summarize history for loss\n",
        "plt.plot(history.history['loss'])\n",
        "plt.plot(history.history['val_loss'])\n",
        "plt.title('model loss')\n",
        "plt.ylabel('loss')\n",
        "plt.xlabel('epoch')\n",
        "plt.legend(['train', 'test'], loc='upper left')\n",
        "plt.show()"
      ],
      "execution_count": null,
      "outputs": []
    },
    {
      "cell_type": "code",
      "metadata": {
        "id": "4cTr1pOLLKKj"
      },
      "source": [
        "#TESTING\n",
        "\n",
        "email = \"All good things do not cost money. You can learn online for free! Our team of experts have curated a list of some great programming-related online courses that you can access for free. Check them out in this blog post: Link: https://www.starttechacademy.com/post/free-courses-and-audio-books-for-data-analytics-and-ml Stay Safe and Keep Learning!\"\n",
        "\n",
        "email= pd.Series([email])\n",
        "print(type(email))\n",
        "email=email.apply(text_preprocess)"
      ],
      "execution_count": null,
      "outputs": []
    },
    {
      "cell_type": "code",
      "metadata": {
        "id": "qu8UgwZBWBE0"
      },
      "source": [
        "email.shape"
      ],
      "execution_count": null,
      "outputs": []
    },
    {
      "cell_type": "code",
      "metadata": {
        "id": "k9tqhmtLMl3s"
      },
      "source": [
        "email_features = np.array(tokenizer.texts_to_sequences(email))\n",
        "print(email_features.shape)\n",
        "email_features=pad_sequences(email_features, maxlen=72)"
      ],
      "execution_count": null,
      "outputs": []
    },
    {
      "cell_type": "code",
      "metadata": {
        "id": "a43DhAryNtMM"
      },
      "source": [
        "email_features.shape"
      ],
      "execution_count": null,
      "outputs": []
    },
    {
      "cell_type": "code",
      "metadata": {
        "id": "fSQlOrRxNjlZ"
      },
      "source": [
        "pred=model.predict(email_features)\n",
        "print(pred)"
      ],
      "execution_count": null,
      "outputs": []
    },
    {
      "cell_type": "code",
      "metadata": {
        "id": "S0vPFmUTNpaM"
      },
      "source": [
        "# IT WORKS GREAT BECAUSE EMAIL WAS ACTUALLY SPAM "
      ],
      "execution_count": null,
      "outputs": []
    }
  ]
}